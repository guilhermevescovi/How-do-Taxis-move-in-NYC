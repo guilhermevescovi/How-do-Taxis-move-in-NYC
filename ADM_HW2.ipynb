{
 "cells": [
  {
   "cell_type": "markdown",
   "metadata": {},
   "source": [
    "# Algorithmic Methods for Data Mining\n",
    "### Homework 2 - How do Taxis move in NYC?\n",
    "##### Group #25 - Guilherme Vescovi Nicchio, Amirhossein Rajabi Shizari, Mario Raimo\n",
    "07/11/2018"
   ]
  },
  {
   "cell_type": "markdown",
   "metadata": {
    "ExecuteTime": {
     "end_time": "2018-11-01T14:32:22.140759Z",
     "start_time": "2018-11-01T14:32:22.133778Z"
    }
   },
   "source": [
    "For this work was used the Yellow cabs data which can be found in the TLC website.\n",
    "The data consists in almost 53 millions of trips (52,776,989 to be precise) performed by the yellow cabs in New York in the first 6 months of 2018."
   ]
  },
  {
   "cell_type": "markdown",
   "metadata": {},
   "source": [
    "It is possible to do many analysis with this data set, the ones performed in this work aimed to expose different trends among 24 hours or between months of New York City and its Boroughs."
   ]
  },
  {
   "cell_type": "markdown",
   "metadata": {},
   "source": [
    "The analysis can be useful for many purposes, as for example:\n",
    "- Taxi Drivers planning their operations;\n",
    "- Clients looking to plan their taxi trip;\n",
    "- Taxi companies looking for optimize its operation;\n",
    "- Acquire information about rush hours and traffic jams."
   ]
  },
  {
   "cell_type": "markdown",
   "metadata": {},
   "source": [
    "In this work was used the following libraries. "
   ]
  },
  {
   "cell_type": "code",
   "execution_count": 1,
   "metadata": {
    "ExecuteTime": {
     "end_time": "2018-11-06T15:49:58.391274Z",
     "start_time": "2018-11-06T15:49:17.932329Z"
    }
   },
   "outputs": [],
   "source": [
    "#initialization, loading library and create empty data_frame\n",
    "import pandas as pd\n",
    "import matplotlib.pyplot as plt\n",
    "import scipy.stats\n",
    "import folium\n",
    "import json\n",
    "import branca.colormap as cm\n",
    "import os\n",
    "from branca.colormap import linear\n",
    "\n",
    "#Auxiliar dataframes\n",
    "borough_names = ['Manhattan','Brooklyn','Queens','Bronx','Staten Island','EWR']\n",
    "daytrip_averages = pd.DataFrame(columns = borough_names)\n",
    "data_zone = pd.read_csv(\"taxi _zone_lookup.csv\", usecols = ['LocationID', 'Borough'])"
   ]
  },
  {
   "cell_type": "markdown",
   "metadata": {},
   "source": [
    "Pandas are useful to dealing with data frames, matplotlib for plotting results, scipy for statistics analysis, folium to print choropleth map, branca.colormap for different colors on plottin and os to handle directories."
   ]
  },
  {
   "cell_type": "markdown",
   "metadata": {},
   "source": [
    "### Initial Considerations\n",
    "1. For the analysis was filtered trips which have recorded trip distance equal to 0, total amount of payment equal to zero as it can be considered an error in the data acquisition. As it is desired to visualize and analyze the data through Boroughs was also filtered the trips with location Unknown."
   ]
  },
  {
   "cell_type": "markdown",
   "metadata": {},
   "source": [
    "2. When visualizing through Boroughs was considered where the trip started, as it is more useful for a taxi drive to know for example which hours and location it is possible get more passengers and also to passengers know when are the rush hours for taxi demands in each Borough. Hence, the visualization of pick-ups data is more meaningful."
   ]
  },
  {
   "cell_type": "markdown",
   "metadata": {},
   "source": [
    "3. In New York City, there are two types of taxis: yellow and green; they are widely recognizable symbols of the city. Taxis painted canary yellow (medallion taxis) are able to pick up passengers anywhere in the five boroughs. Those painted apple green (street hail livery vehicles, commonly known as \"boro taxis\"), which began to appear in August 2013, are allowed to pick up passengers in Upper Manhattan, the Bronx, Brooklyn, Queens (excluding LaGuardia Airport and John F. Kennedy International Airport), and Staten Island. \n",
    "Due to this the amount of rides of the yellow cabs in Manhattan are considerably higher as this taxis operate mainly in this area."
   ]
  },
  {
   "cell_type": "markdown",
   "metadata": {},
   "source": [
    "4. The biggest challenge in this work was to handle the big amount of data without overloading the computer. To solve this issue, on every task, the code is runned in a for loop through the months, do the analysis for a single month, store the results in a empty set and then load the next month repeating the process and combining the results. Afterwards, when changing to the next task, instead of creating new variables to handle the new analysis, was aimed to perform each task overwriting the variables of the previous exercise. This strategy has proven successful as the computer wasn't overloaded."
   ]
  },
  {
   "cell_type": "markdown",
   "metadata": {},
   "source": [
    "### RQ1 - In what period of the year Taxis are used more?\n",
    "Create a plot that, for each month, shows the average number of trips recorded each day. Due to the differences among New York zones, we want to visualize the same information for each boroughs. Do you notice any difference among them? Provide comments and plausible explanations about what you observe (e.g.: what is the month with the highest daily average?)."
   ]
  },
  {
   "cell_type": "markdown",
   "metadata": {},
   "source": [
    "The following code counts the amount of trips for each borough and stores it into a data frame."
   ]
  },
  {
   "cell_type": "code",
   "execution_count": 25,
   "metadata": {
    "ExecuteTime": {
     "end_time": "2018-11-06T17:50:17.886538Z",
     "start_time": "2018-11-06T17:44:08.984090Z"
    }
   },
   "outputs": [],
   "source": [
    "for month in ['01', '02', '03', '04', '05', '06']:\n",
    "\n",
    "    # ------------------------------------------STARTED LOADING AND HANDLING DATA\n",
    "    #read file\n",
    "    data_final = pd.read_csv(\"yellow_tripdata_2018-\"+month+\".csv\", usecols=[\n",
    "                             'tpep_pickup_datetime', 'tpep_dropoff_datetime', 'trip_distance', 'PULocationID', 'total_amount'])\n",
    "\n",
    "    #merge file with zone look-up to have the proper name of the Borough\n",
    "    data_final = pd.merge(data_final, data_zone, how=\"left\",\n",
    "                          left_on='PULocationID', right_on=\"LocationID\")\n",
    "    #eliminating unuseful data\n",
    "    data_final = data_final[data_final.trip_distance != 0]\n",
    "    data_final = data_final[data_final.total_amount != 0]\n",
    "    data_final = data_final[data_final.Borough != 'Unknown']\n",
    "    \n",
    "    # Transformation of date columns from string to format datetime\n",
    "    data_final['tpep_pickup_datetime'] = pd.to_datetime(\n",
    "        data_final['tpep_pickup_datetime'], format='%Y-%m-%d %H:%M:%S')\n",
    "    data_final['tpep_dropoff_datetime'] = pd.to_datetime(\n",
    "        data_final['tpep_dropoff_datetime'], format='%Y-%m-%d %H:%M:%S')\n",
    "\n",
    "    # travel_time = data_final['tpep_dropoff_datetime'] - data_final['tpep_pickup_datetime']\n",
    "    # inserting a new column with travel time in the dataframe\n",
    "    data_final.insert(loc=2, column='travel_time', value=data_final['tpep_dropoff_datetime'] -\n",
    "                      data_final['tpep_pickup_datetime'])\n",
    "\n",
    "# ---------------------------------------FINISHED HANDLING ORIGINAL DATA FRAME\n",
    "    #CALCULATIONS\n",
    "    list_averages = []\n",
    "    for i in borough_names:\n",
    "        # get just the data from the main data frame \n",
    "        #that corresponds to the borough in i (from borough names)\n",
    "        borough_data = data_final.loc[(data_final['Borough'] == i)]\n",
    "        # get just the day in the date_time\n",
    "        day = borough_data['tpep_pickup_datetime'].dt.day\n",
    "        #divide the sum of all the trups by the lenght off the month\n",
    "        average = sum(day.value_counts())/len(day.value_counts())\n",
    "        list_averages.append(int(average))\n",
    "    \n",
    "    #insert the results in an empty table, each row a new month\n",
    "    month = int(month)\n",
    "    daytrip_averages.loc[month] = list_averages"
   ]
  },
  {
   "cell_type": "markdown",
   "metadata": {
    "ExecuteTime": {
     "end_time": "2018-11-01T14:23:22.330098Z",
     "start_time": "2018-11-01T14:23:22.326110Z"
    }
   },
   "source": [
    "#### The table below shows the average number of trips recorded per day for each of the 6 months"
   ]
  },
  {
   "cell_type": "code",
   "execution_count": 187,
   "metadata": {
    "ExecuteTime": {
     "end_time": "2018-11-01T13:05:06.629867Z",
     "start_time": "2018-11-01T13:05:06.592954Z"
    },
    "scrolled": true
   },
   "outputs": [
    {
     "data": {
      "text/html": [
       "<div>\n",
       "<style scoped>\n",
       "    .dataframe tbody tr th:only-of-type {\n",
       "        vertical-align: middle;\n",
       "    }\n",
       "\n",
       "    .dataframe tbody tr th {\n",
       "        vertical-align: top;\n",
       "    }\n",
       "\n",
       "    .dataframe thead th {\n",
       "        text-align: right;\n",
       "    }\n",
       "</style>\n",
       "<table border=\"1\" class=\"dataframe\">\n",
       "  <thead>\n",
       "    <tr style=\"text-align: right;\">\n",
       "      <th></th>\n",
       "      <th>Manhattan</th>\n",
       "      <th>Brooklyn</th>\n",
       "      <th>Queens</th>\n",
       "      <th>Bronx</th>\n",
       "      <th>Staten Island</th>\n",
       "      <th>EWR</th>\n",
       "    </tr>\n",
       "  </thead>\n",
       "  <tbody>\n",
       "    <tr>\n",
       "      <th>1</th>\n",
       "      <td>255969</td>\n",
       "      <td>3176</td>\n",
       "      <td>16614</td>\n",
       "      <td>215</td>\n",
       "      <td>3</td>\n",
       "      <td>6</td>\n",
       "    </tr>\n",
       "    <tr>\n",
       "      <th>2</th>\n",
       "      <td>257955</td>\n",
       "      <td>3219</td>\n",
       "      <td>16315</td>\n",
       "      <td>211</td>\n",
       "      <td>3</td>\n",
       "      <td>5</td>\n",
       "    </tr>\n",
       "    <tr>\n",
       "      <th>3</th>\n",
       "      <td>275346</td>\n",
       "      <td>3898</td>\n",
       "      <td>17777</td>\n",
       "      <td>311</td>\n",
       "      <td>3</td>\n",
       "      <td>6</td>\n",
       "    </tr>\n",
       "    <tr>\n",
       "      <th>4</th>\n",
       "      <td>270892</td>\n",
       "      <td>3775</td>\n",
       "      <td>18815</td>\n",
       "      <td>329</td>\n",
       "      <td>3</td>\n",
       "      <td>6</td>\n",
       "    </tr>\n",
       "    <tr>\n",
       "      <th>5</th>\n",
       "      <td>268320</td>\n",
       "      <td>3893</td>\n",
       "      <td>19271</td>\n",
       "      <td>331</td>\n",
       "      <td>3</td>\n",
       "      <td>7</td>\n",
       "    </tr>\n",
       "    <tr>\n",
       "      <th>6</th>\n",
       "      <td>253123</td>\n",
       "      <td>3900</td>\n",
       "      <td>18061</td>\n",
       "      <td>320</td>\n",
       "      <td>4</td>\n",
       "      <td>6</td>\n",
       "    </tr>\n",
       "  </tbody>\n",
       "</table>\n",
       "</div>"
      ],
      "text/plain": [
       "  Manhattan Brooklyn Queens Bronx Staten Island EWR\n",
       "1    255969     3176  16614   215             3   6\n",
       "2    257955     3219  16315   211             3   5\n",
       "3    275346     3898  17777   311             3   6\n",
       "4    270892     3775  18815   329             3   6\n",
       "5    268320     3893  19271   331             3   7\n",
       "6    253123     3900  18061   320             4   6"
      ]
     },
     "execution_count": 187,
     "metadata": {},
     "output_type": "execute_result"
    }
   ],
   "source": [
    "daytrip_averages"
   ]
  },
  {
   "cell_type": "markdown",
   "metadata": {},
   "source": [
    "Plotting the sum of the results to visualyze the city of New York."
   ]
  },
  {
   "cell_type": "code",
   "execution_count": 251,
   "metadata": {
    "ExecuteTime": {
     "end_time": "2018-11-01T14:16:35.949589Z",
     "start_time": "2018-11-01T14:16:35.710038Z"
    },
    "scrolled": false
   },
   "outputs": [
    {
     "data": {
      "text/plain": [
       "[Text(0,0,'Jan'),\n",
       " Text(0,0,'Feb'),\n",
       " Text(0,0,'Mar'),\n",
       " Text(0,0,'Apr'),\n",
       " Text(0,0,'May'),\n",
       " Text(0,0,'Jun')]"
      ]
     },
     "execution_count": 251,
     "metadata": {},
     "output_type": "execute_result"
    },
    {
     "data": {
      "image/png": "[encoded data removed]",
      "text/plain": [
       "<Figure size 720x360 with 1 Axes>"
      ]
     },
     "metadata": {
      "needs_background": "light"
     },
     "output_type": "display_data"
    }
   ],
   "source": [
    "months = ['Jan', 'Feb', 'Mar', 'Apr', 'May', 'Jun']\n",
    "# sum all the columns to get the result of NY\n",
    "new_york_daytrip_averages = daytrip_averages.iloc[:, :].sum(axis=1)\n",
    "# plot\n",
    "ax = new_york_daytrip_averages.plot(kind='bar', grid = True, colormap='Set3',  \n",
    "                               figsize=(10, 5), title = 'Average number of trips per day in the first 6 months of 2018')\n",
    "\n",
    "ax.set_xlabel('Months')\n",
    "ax.set_ylabel('Average number of trips per day')\n",
    "ax.xaxis.set_ticklabels(months)"
   ]
  },
  {
   "cell_type": "markdown",
   "metadata": {},
   "source": [
    "#### Comments\n",
    "It is possible to notice that there isn't much variation in the average between the months, although the first two are a bit lower. One possible explanation for the low trips in January and February might be the average snowfall inches, which is higher in this first months of the year compared to the rest of the months. On this months snow usually reaches 18 cm in January and 12 cm in February (Source Wikipedia), which could lead people to not leave home, hence less taxi rides."
   ]
  },
  {
   "cell_type": "markdown",
   "metadata": {
    "ExecuteTime": {
     "end_time": "2018-11-01T14:26:45.987152Z",
     "start_time": "2018-11-01T14:26:45.983165Z"
    }
   },
   "source": [
    "### Follows the visualization per Borough"
   ]
  },
  {
   "cell_type": "code",
   "execution_count": 29,
   "metadata": {
    "ExecuteTime": {
     "end_time": "2018-11-06T17:53:43.722739Z",
     "start_time": "2018-11-06T17:53:42.668526Z"
    },
    "scrolled": false
   },
   "outputs": [
    {
     "data": {
      "image/png": "[encoded data removed]",
      "text/plain": [
       "<Figure size 1296x1872 with 10 Axes>"
      ]
     },
     "metadata": {
      "needs_background": "light"
     },
     "output_type": "display_data"
    }
   ],
   "source": [
    "ax = daytrip_averages.plot( kind = 'bar', subplots= True, sharex = False, \n",
    "                           layout = (5,2), figsize = (18,26), colormap='Set2', \n",
    "                           legend = False, title = 'Visualisation per Borough')"
   ]
  },
  {
   "cell_type": "markdown",
   "metadata": {},
   "source": [
    "As commented before, the yellow taxis operate mainly in Manhattan, thus we have significantly less pick-ups in the other boroughs, specially EWR and Staten Island which are on the limits of the city."
   ]
  },
  {
   "cell_type": "markdown",
   "metadata": {
    "ExecuteTime": {
     "end_time": "2018-10-30T11:26:21.826492Z",
     "start_time": "2018-10-30T11:26:21.821506Z"
    }
   },
   "source": [
    "### RQ2 What are the time slots with more passengers? \n",
    "Set your own time slots and discover which are those when Taxis drive the highest number of passengers overall New York and repeat the analysis for each borough. Provide the results through a visualization and comment them."
   ]
  },
  {
   "cell_type": "markdown",
   "metadata": {},
   "source": [
    "To visualize the slots with more passengers, it was performed a count of trips initiated in each hour of the day and separated it for each borough."
   ]
  },
  {
   "cell_type": "code",
   "execution_count": 30,
   "metadata": {
    "ExecuteTime": {
     "end_time": "2018-11-06T18:01:40.389307Z",
     "start_time": "2018-11-06T17:54:13.003389Z"
    }
   },
   "outputs": [],
   "source": [
    "for month in ['01', '02', '03', '04', '05', '06']:\n",
    "\n",
    "    # ------------------------------------------STARTED LOADING AND HANDLING DATA\n",
    "    data_final = pd.read_csv(\"yellow_tripdata_2018-\"+month+\".csv\",\n",
    "                             usecols=['tpep_pickup_datetime', 'tpep_dropoff_datetime', 'trip_distance', 'PULocationID', 'payment_type', 'passenger_count', 'total_amount'])\n",
    "\n",
    "    data_final = pd.merge(data_final, data_zone, how=\"left\",\n",
    "                          left_on='PULocationID', right_on=\"LocationID\")\n",
    "    data_final = data_final[data_final.trip_distance != 0]\n",
    "    data_final = data_final[data_final.total_amount != 0]\n",
    "    data_final = data_final[data_final.Borough != 'Unknown']\n",
    "\n",
    "    # Transformation from string to format datetime\n",
    "    data_final['tpep_pickup_datetime'] = pd.to_datetime(\n",
    "        data_final['tpep_pickup_datetime'], format='%Y-%m-%d %H:%M:%S')\n",
    "    data_final['tpep_dropoff_datetime'] = pd.to_datetime(\n",
    "        data_final['tpep_dropoff_datetime'], format='%Y-%m-%d %H:%M:%S')\n",
    "\n",
    "    # inserting a new column with travel time in the dataframe\n",
    "    data_final.insert(loc=2, column='travel_time', value=data_final['tpep_dropoff_datetime'] -\n",
    "                      data_final['tpep_pickup_datetime'])\n",
    "\n",
    "    # creating a column hours\n",
    "    data_final.loc[:, 'hours'] = data_final['tpep_pickup_datetime'].dt.hour\n",
    "\n",
    "# ---------------------------------------FINISHED HANDLING ORIGINAL DATA FRAME\n",
    "# ---------------------------------------CALCULATIONS\n",
    "\n",
    "    # summing passengers for borough and hours like excel pivot table\n",
    "    hours_passengers = data_final.groupby(['Borough', 'hours'])[\n",
    "        'passenger_count'].agg('sum')\n",
    "    # unstacking the pivot table\n",
    "    hours_passengers = hours_passengers.unstack().fillna(0)\n",
    "    # transposing for a better plot\n",
    "    hours_passengers = hours_passengers.transpose()\n",
    "    # add the dataframe values of the current loop to the previous dataframe values\n",
    "    if int(month) == 1:\n",
    "        hours_passengers_total = hours_passengers\n",
    "    else:\n",
    "        hours_passengers_total = hours_passengers_total.add(hours_passengers)"
   ]
  },
  {
   "cell_type": "markdown",
   "metadata": {},
   "source": [
    "### Final Table for analysis\n",
    "In the table bellow is possible to observe the sum of all passengers for each hour and for each Borough."
   ]
  },
  {
   "cell_type": "code",
   "execution_count": 81,
   "metadata": {
    "ExecuteTime": {
     "end_time": "2018-11-04T14:28:01.179755Z",
     "start_time": "2018-11-04T14:28:01.155796Z"
    },
    "scrolled": false
   },
   "outputs": [
    {
     "data": {
      "text/html": [
       "<div>\n",
       "<style scoped>\n",
       "    .dataframe tbody tr th:only-of-type {\n",
       "        vertical-align: middle;\n",
       "    }\n",
       "\n",
       "    .dataframe tbody tr th {\n",
       "        vertical-align: top;\n",
       "    }\n",
       "\n",
       "    .dataframe thead th {\n",
       "        text-align: right;\n",
       "    }\n",
       "</style>\n",
       "<table border=\"1\" class=\"dataframe\">\n",
       "  <thead>\n",
       "    <tr style=\"text-align: right;\">\n",
       "      <th>Borough</th>\n",
       "      <th>Bronx</th>\n",
       "      <th>Brooklyn</th>\n",
       "      <th>EWR</th>\n",
       "      <th>Manhattan</th>\n",
       "      <th>Queens</th>\n",
       "      <th>Staten Island</th>\n",
       "    </tr>\n",
       "    <tr>\n",
       "      <th>hours</th>\n",
       "      <th></th>\n",
       "      <th></th>\n",
       "      <th></th>\n",
       "      <th></th>\n",
       "      <th></th>\n",
       "      <th></th>\n",
       "    </tr>\n",
       "  </thead>\n",
       "  <tbody>\n",
       "    <tr>\n",
       "      <th>0</th>\n",
       "      <td>2826.0</td>\n",
       "      <td>71557.0</td>\n",
       "      <td>3.0</td>\n",
       "      <td>2417738.0</td>\n",
       "      <td>185682.0</td>\n",
       "      <td>39.0</td>\n",
       "    </tr>\n",
       "    <tr>\n",
       "      <th>1</th>\n",
       "      <td>2366.0</td>\n",
       "      <td>51232.0</td>\n",
       "      <td>6.0</td>\n",
       "      <td>1698041.0</td>\n",
       "      <td>89338.0</td>\n",
       "      <td>35.0</td>\n",
       "    </tr>\n",
       "    <tr>\n",
       "      <th>2</th>\n",
       "      <td>2010.0</td>\n",
       "      <td>38801.0</td>\n",
       "      <td>8.0</td>\n",
       "      <td>1230722.0</td>\n",
       "      <td>43307.0</td>\n",
       "      <td>28.0</td>\n",
       "    </tr>\n",
       "    <tr>\n",
       "      <th>3</th>\n",
       "      <td>1815.0</td>\n",
       "      <td>30954.0</td>\n",
       "      <td>8.0</td>\n",
       "      <td>897409.0</td>\n",
       "      <td>30434.0</td>\n",
       "      <td>42.0</td>\n",
       "    </tr>\n",
       "    <tr>\n",
       "      <th>4</th>\n",
       "      <td>2170.0</td>\n",
       "      <td>27006.0</td>\n",
       "      <td>35.0</td>\n",
       "      <td>681714.0</td>\n",
       "      <td>42847.0</td>\n",
       "      <td>56.0</td>\n",
       "    </tr>\n",
       "    <tr>\n",
       "      <th>5</th>\n",
       "      <td>2671.0</td>\n",
       "      <td>17415.0</td>\n",
       "      <td>53.0</td>\n",
       "      <td>700469.0</td>\n",
       "      <td>76667.0</td>\n",
       "      <td>48.0</td>\n",
       "    </tr>\n",
       "    <tr>\n",
       "      <th>6</th>\n",
       "      <td>4141.0</td>\n",
       "      <td>34374.0</td>\n",
       "      <td>79.0</td>\n",
       "      <td>1654677.0</td>\n",
       "      <td>128190.0</td>\n",
       "      <td>13.0</td>\n",
       "    </tr>\n",
       "    <tr>\n",
       "      <th>7</th>\n",
       "      <td>6390.0</td>\n",
       "      <td>49595.0</td>\n",
       "      <td>57.0</td>\n",
       "      <td>2868548.0</td>\n",
       "      <td>180222.0</td>\n",
       "      <td>19.0</td>\n",
       "    </tr>\n",
       "    <tr>\n",
       "      <th>8</th>\n",
       "      <td>5831.0</td>\n",
       "      <td>57832.0</td>\n",
       "      <td>47.0</td>\n",
       "      <td>3614284.0</td>\n",
       "      <td>193620.0</td>\n",
       "      <td>32.0</td>\n",
       "    </tr>\n",
       "    <tr>\n",
       "      <th>9</th>\n",
       "      <td>4812.0</td>\n",
       "      <td>40787.0</td>\n",
       "      <td>82.0</td>\n",
       "      <td>3643492.0</td>\n",
       "      <td>219446.0</td>\n",
       "      <td>44.0</td>\n",
       "    </tr>\n",
       "    <tr>\n",
       "      <th>10</th>\n",
       "      <td>4132.0</td>\n",
       "      <td>31554.0</td>\n",
       "      <td>62.0</td>\n",
       "      <td>3614032.0</td>\n",
       "      <td>246575.0</td>\n",
       "      <td>57.0</td>\n",
       "    </tr>\n",
       "    <tr>\n",
       "      <th>11</th>\n",
       "      <td>3751.0</td>\n",
       "      <td>29618.0</td>\n",
       "      <td>63.0</td>\n",
       "      <td>3815141.0</td>\n",
       "      <td>223013.0</td>\n",
       "      <td>34.0</td>\n",
       "    </tr>\n",
       "    <tr>\n",
       "      <th>12</th>\n",
       "      <td>3767.0</td>\n",
       "      <td>32122.0</td>\n",
       "      <td>91.0</td>\n",
       "      <td>4047862.0</td>\n",
       "      <td>245470.0</td>\n",
       "      <td>39.0</td>\n",
       "    </tr>\n",
       "    <tr>\n",
       "      <th>13</th>\n",
       "      <td>3818.0</td>\n",
       "      <td>33997.0</td>\n",
       "      <td>92.0</td>\n",
       "      <td>4059915.0</td>\n",
       "      <td>265255.0</td>\n",
       "      <td>45.0</td>\n",
       "    </tr>\n",
       "    <tr>\n",
       "      <th>14</th>\n",
       "      <td>3850.0</td>\n",
       "      <td>36084.0</td>\n",
       "      <td>136.0</td>\n",
       "      <td>4229124.0</td>\n",
       "      <td>310321.0</td>\n",
       "      <td>50.0</td>\n",
       "    </tr>\n",
       "    <tr>\n",
       "      <th>15</th>\n",
       "      <td>4066.0</td>\n",
       "      <td>35026.0</td>\n",
       "      <td>167.0</td>\n",
       "      <td>4211045.0</td>\n",
       "      <td>317213.0</td>\n",
       "      <td>69.0</td>\n",
       "    </tr>\n",
       "    <tr>\n",
       "      <th>16</th>\n",
       "      <td>3402.0</td>\n",
       "      <td>32379.0</td>\n",
       "      <td>188.0</td>\n",
       "      <td>3878036.0</td>\n",
       "      <td>344886.0</td>\n",
       "      <td>65.0</td>\n",
       "    </tr>\n",
       "    <tr>\n",
       "      <th>17</th>\n",
       "      <td>4373.0</td>\n",
       "      <td>41464.0</td>\n",
       "      <td>127.0</td>\n",
       "      <td>4481316.0</td>\n",
       "      <td>329267.0</td>\n",
       "      <td>69.0</td>\n",
       "    </tr>\n",
       "    <tr>\n",
       "      <th>18</th>\n",
       "      <td>3859.0</td>\n",
       "      <td>52331.0</td>\n",
       "      <td>108.0</td>\n",
       "      <td>5087571.0</td>\n",
       "      <td>317326.0</td>\n",
       "      <td>27.0</td>\n",
       "    </tr>\n",
       "    <tr>\n",
       "      <th>19</th>\n",
       "      <td>3047.0</td>\n",
       "      <td>52885.0</td>\n",
       "      <td>125.0</td>\n",
       "      <td>4909768.0</td>\n",
       "      <td>313417.0</td>\n",
       "      <td>47.0</td>\n",
       "    </tr>\n",
       "    <tr>\n",
       "      <th>20</th>\n",
       "      <td>2665.0</td>\n",
       "      <td>50473.0</td>\n",
       "      <td>46.0</td>\n",
       "      <td>4411932.0</td>\n",
       "      <td>317115.0</td>\n",
       "      <td>48.0</td>\n",
       "    </tr>\n",
       "    <tr>\n",
       "      <th>21</th>\n",
       "      <td>3056.0</td>\n",
       "      <td>61882.0</td>\n",
       "      <td>37.0</td>\n",
       "      <td>4443393.0</td>\n",
       "      <td>339782.0</td>\n",
       "      <td>58.0</td>\n",
       "    </tr>\n",
       "    <tr>\n",
       "      <th>22</th>\n",
       "      <td>3048.0</td>\n",
       "      <td>79647.0</td>\n",
       "      <td>12.0</td>\n",
       "      <td>4210923.0</td>\n",
       "      <td>300204.0</td>\n",
       "      <td>34.0</td>\n",
       "    </tr>\n",
       "    <tr>\n",
       "      <th>23</th>\n",
       "      <td>3107.0</td>\n",
       "      <td>85984.0</td>\n",
       "      <td>4.0</td>\n",
       "      <td>3366440.0</td>\n",
       "      <td>281872.0</td>\n",
       "      <td>22.0</td>\n",
       "    </tr>\n",
       "  </tbody>\n",
       "</table>\n",
       "</div>"
      ],
      "text/plain": [
       "Borough   Bronx  Brooklyn    EWR  Manhattan    Queens  Staten Island\n",
       "hours                                                               \n",
       "0        2826.0   71557.0    3.0  2417738.0  185682.0           39.0\n",
       "1        2366.0   51232.0    6.0  1698041.0   89338.0           35.0\n",
       "2        2010.0   38801.0    8.0  1230722.0   43307.0           28.0\n",
       "3        1815.0   30954.0    8.0   897409.0   30434.0           42.0\n",
       "4        2170.0   27006.0   35.0   681714.0   42847.0           56.0\n",
       "5        2671.0   17415.0   53.0   700469.0   76667.0           48.0\n",
       "6        4141.0   34374.0   79.0  1654677.0  128190.0           13.0\n",
       "7        6390.0   49595.0   57.0  2868548.0  180222.0           19.0\n",
       "8        5831.0   57832.0   47.0  3614284.0  193620.0           32.0\n",
       "9        4812.0   40787.0   82.0  3643492.0  219446.0           44.0\n",
       "10       4132.0   31554.0   62.0  3614032.0  246575.0           57.0\n",
       "11       3751.0   29618.0   63.0  3815141.0  223013.0           34.0\n",
       "12       3767.0   32122.0   91.0  4047862.0  245470.0           39.0\n",
       "13       3818.0   33997.0   92.0  4059915.0  265255.0           45.0\n",
       "14       3850.0   36084.0  136.0  4229124.0  310321.0           50.0\n",
       "15       4066.0   35026.0  167.0  4211045.0  317213.0           69.0\n",
       "16       3402.0   32379.0  188.0  3878036.0  344886.0           65.0\n",
       "17       4373.0   41464.0  127.0  4481316.0  329267.0           69.0\n",
       "18       3859.0   52331.0  108.0  5087571.0  317326.0           27.0\n",
       "19       3047.0   52885.0  125.0  4909768.0  313417.0           47.0\n",
       "20       2665.0   50473.0   46.0  4411932.0  317115.0           48.0\n",
       "21       3056.0   61882.0   37.0  4443393.0  339782.0           58.0\n",
       "22       3048.0   79647.0   12.0  4210923.0  300204.0           34.0\n",
       "23       3107.0   85984.0    4.0  3366440.0  281872.0           22.0"
      ]
     },
     "execution_count": 81,
     "metadata": {},
     "output_type": "execute_result"
    }
   ],
   "source": [
    "hours_passengers_total"
   ]
  },
  {
   "cell_type": "code",
   "execution_count": 82,
   "metadata": {
    "ExecuteTime": {
     "end_time": "2018-11-04T14:28:05.829928Z",
     "start_time": "2018-11-04T14:28:05.824913Z"
    }
   },
   "outputs": [],
   "source": [
    "#sum all the columns to get the result of NY\n",
    "hours_passengers_ny = hours_passengers_total.iloc[:,:].sum(axis=1)"
   ]
  },
  {
   "cell_type": "code",
   "execution_count": 83,
   "metadata": {
    "ExecuteTime": {
     "end_time": "2018-11-04T14:28:08.582201Z",
     "start_time": "2018-11-04T14:28:08.304912Z"
    },
    "scrolled": false
   },
   "outputs": [
    {
     "data": {
      "text/plain": [
       "Text(0,0.5,'Number of trips')"
      ]
     },
     "execution_count": 83,
     "metadata": {},
     "output_type": "execute_result"
    },
    {
     "data": {
      "image/png": "[encoded data removed]",
      "text/plain": [
       "<Figure size 720x360 with 1 Axes>"
      ]
     },
     "metadata": {
      "needs_background": "light"
     },
     "output_type": "display_data"
    }
   ],
   "source": [
    "#PLOT\n",
    "ax = hours_passengers_ny.plot( kind = 'bar', colormap='Set3', figsize = (10,5), title = 'Number of trips per hour in the first 6 months of 2018')\n",
    "\n",
    "ax.set_xlabel('Hours')\n",
    "ax.set_ylabel('Number of trips')"
   ]
  },
  {
   "cell_type": "markdown",
   "metadata": {},
   "source": [
    "Observing the plot is possible to notice the trend among the hours, for example the low number of trips decreases at night reaching its lowest at 4 am, the peak of activity at 18 o'clock which is the rush hour when people are finishing the labour day and initiating the night shift. "
   ]
  },
  {
   "cell_type": "markdown",
   "metadata": {},
   "source": [
    "### Visualization per Borough"
   ]
  },
  {
   "cell_type": "code",
   "execution_count": 31,
   "metadata": {
    "ExecuteTime": {
     "end_time": "2018-11-06T18:03:05.439936Z",
     "start_time": "2018-11-06T18:03:03.738887Z"
    },
    "scrolled": false
   },
   "outputs": [
    {
     "data": {
      "text/plain": [
       "array([[<matplotlib.axes._subplots.AxesSubplot object at 0x0000014EEBD9A748>,\n",
       "        <matplotlib.axes._subplots.AxesSubplot object at 0x0000014EC9552630>],\n",
       "       [<matplotlib.axes._subplots.AxesSubplot object at 0x0000014E988EEC50>,\n",
       "        <matplotlib.axes._subplots.AxesSubplot object at 0x0000014EAD3B94A8>],\n",
       "       [<matplotlib.axes._subplots.AxesSubplot object at 0x0000014EAD3C7438>,\n",
       "        <matplotlib.axes._subplots.AxesSubplot object at 0x0000014EAD3C7668>],\n",
       "       [<matplotlib.axes._subplots.AxesSubplot object at 0x0000014EC40E3400>,\n",
       "        <matplotlib.axes._subplots.AxesSubplot object at 0x0000014E986DD8D0>],\n",
       "       [<matplotlib.axes._subplots.AxesSubplot object at 0x0000014E8B227668>,\n",
       "        <matplotlib.axes._subplots.AxesSubplot object at 0x0000014E8712A550>]],\n",
       "      dtype=object)"
      ]
     },
     "execution_count": 31,
     "metadata": {},
     "output_type": "execute_result"
    },
    {
     "data": {
      "image/png": "[encoded data removed]",
      "text/plain": [
       "<Figure size 1296x1872 with 10 Axes>"
      ]
     },
     "metadata": {
      "needs_background": "light"
     },
     "output_type": "display_data"
    }
   ],
   "source": [
    "hours_passengers_total.plot( kind = 'bar', subplots= True, sharex = False,\n",
    "                            title = 'Number of trips per Borough',\n",
    "                            colormap = 'Set2', layout = (5,2), figsize = (18,26), legend = False)"
   ]
  },
  {
   "cell_type": "markdown",
   "metadata": {},
   "source": [
    "Observing the plot per Borough is possible to notice how each Borough have different characteristics. For example, Brooklyn has more passengers at night, Brooklyn is famous by its pubs, thus the night life in this borough increases the demand for cabs in this period, while at EWR its noticed a considerable smaller activity during the night, which could be due to a mainly residencial or industrial zone."
   ]
  },
  {
   "cell_type": "markdown",
   "metadata": {},
   "source": [
    "### RQ3 Do the all trips last the same?\n",
    "Let's put our attention on the distribution of trip's duration. Provide a plot for it and comment what you see. Run this analysis for NYC and for each borough (and obviously comment the results!)."
   ]
  },
  {
   "cell_type": "markdown",
   "metadata": {},
   "source": [
    "It is obvious that the trips do not last the same, but to have an overview on how the trips tend to last longer in different times of the day, it was performed an average of trip duration for each slot of hour. This can provide a more meaningful image of how the trips duration varies over the day and expose traffic jam periods."
   ]
  },
  {
   "cell_type": "code",
   "execution_count": 2,
   "metadata": {
    "ExecuteTime": {
     "end_time": "2018-11-06T16:05:22.288408Z",
     "start_time": "2018-11-06T15:58:34.802722Z"
    }
   },
   "outputs": [],
   "source": [
    "for month in ['01', '02', '03', '04', '05', '06']:\n",
    "    # load tpep_pickup_datetime,\ttpep_dropoff_datetime, trip_distance, PULocationID, payment_type passenger_count\n",
    "    data_final = pd.read_csv(\"yellow_tripdata_2018-\"+month+\".csv\", usecols=[\n",
    "                             'tpep_pickup_datetime', 'tpep_dropoff_datetime', 'trip_distance', 'PULocationID', 'total_amount'])\n",
    "\n",
    "    data_final = pd.merge(data_final, data_zone, how=\"left\",\n",
    "                          left_on='PULocationID', right_on=\"LocationID\")\n",
    "    data_final = data_final[data_final.trip_distance != 0]\n",
    "    data_final = data_final[data_final.total_amount != 0]\n",
    "    data_final = data_final[data_final.Borough != 'Unknown']\n",
    "\n",
    "    # Transformation from string to format datetime\n",
    "    data_final['tpep_pickup_datetime'] = pd.to_datetime(\n",
    "        data_final['tpep_pickup_datetime'], format='%Y-%m-%d %H:%M:%S')\n",
    "    data_final['tpep_dropoff_datetime'] = pd.to_datetime(\n",
    "        data_final['tpep_dropoff_datetime'], format='%Y-%m-%d %H:%M:%S')\n",
    "\n",
    "    # inserting a new column with travel time in the dataframe\n",
    "    data_final.insert(loc=2, column='travel_time', value=data_final['tpep_dropoff_datetime'] -\n",
    "                      data_final['tpep_pickup_datetime'])\n",
    "    # eliminating travel time small than 0\n",
    "    data_final = data_final[data_final.travel_time.dt.days.astype(\n",
    "        'float64') >= 0]\n",
    "\n",
    "    # creating a column hours\n",
    "    data_final.loc[:, 'hours'] = data_final['tpep_pickup_datetime'].dt.hour\n",
    "\n",
    "    # summing travel time for borough and hours like excel pivot table\n",
    "    travel_time_hours = data_final.groupby(['Borough', 'hours'])[\n",
    "        'travel_time'].sum()\n",
    "    # counting how many trips to make a mean time per hour\n",
    "    travel_time_count = data_final.groupby(['Borough', 'hours'])[\n",
    "        'travel_time'].count()\n",
    "\n",
    "    # unstacking the pivot table\n",
    "    travel_time_hours = travel_time_hours.unstack().fillna(0)\n",
    "    travel_time_count = travel_time_count.unstack().fillna(0)\n",
    "    # transposing for a better plot\n",
    "    travel_time_hours = travel_time_hours.transpose()\n",
    "    travel_time_count = travel_time_count.transpose()\n",
    "    # add the dataframe values of the current loop to the previous dataframe values\n",
    "    # data with all the sums and all the count for each month\n",
    "    if int(month) == 1:\n",
    "        travel_time_hours_total = travel_time_hours\n",
    "        travel_time_count_total = travel_time_count\n",
    "    else:\n",
    "        travel_time_hours_total = travel_time_hours_total.add(\n",
    "            travel_time_hours)\n",
    "        travel_time_count_total = travel_time_count_total.add(\n",
    "            travel_time_count)\n",
    "\n",
    "# summing all the columns to calculate the average of all NY\n",
    "ny_total_hours = travel_time_hours_total.iloc[:, :].sum(axis=1)\n",
    "ny_total_count = travel_time_count_total.iloc[:, :].sum(axis=1)\n",
    "# dividing all count to all travel times to see the average for all NY\n",
    "ny_total_hours = ny_total_hours.divide(ny_total_count)\n",
    "\n",
    "# dividing all travel time by number of trips, so it is the average\n",
    "travel_time_hours_total = travel_time_hours_total.divide(\n",
    "    travel_time_count_total)\n",
    "#travel_time_hours_total['Queens'][7] = travel_time_hours_total['Queens'][6]"
   ]
  },
  {
   "cell_type": "markdown",
   "metadata": {},
   "source": [
    "### Final Table for analysis\n",
    "In the table bellow is possible to observe the average duration of the trip for each hour of the day and for each Borough."
   ]
  },
  {
   "cell_type": "code",
   "execution_count": 68,
   "metadata": {
    "ExecuteTime": {
     "end_time": "2018-11-04T14:04:17.851979Z",
     "start_time": "2018-11-04T14:04:17.828017Z"
    }
   },
   "outputs": [
    {
     "data": {
      "text/html": [
       "<div>\n",
       "<style scoped>\n",
       "    .dataframe tbody tr th:only-of-type {\n",
       "        vertical-align: middle;\n",
       "    }\n",
       "\n",
       "    .dataframe tbody tr th {\n",
       "        vertical-align: top;\n",
       "    }\n",
       "\n",
       "    .dataframe thead th {\n",
       "        text-align: right;\n",
       "    }\n",
       "</style>\n",
       "<table border=\"1\" class=\"dataframe\">\n",
       "  <thead>\n",
       "    <tr style=\"text-align: right;\">\n",
       "      <th>Borough</th>\n",
       "      <th>Bronx</th>\n",
       "      <th>Brooklyn</th>\n",
       "      <th>EWR</th>\n",
       "      <th>Manhattan</th>\n",
       "      <th>Queens</th>\n",
       "      <th>Staten Island</th>\n",
       "    </tr>\n",
       "    <tr>\n",
       "      <th>hours</th>\n",
       "      <th></th>\n",
       "      <th></th>\n",
       "      <th></th>\n",
       "      <th></th>\n",
       "      <th></th>\n",
       "      <th></th>\n",
       "    </tr>\n",
       "  </thead>\n",
       "  <tbody>\n",
       "    <tr>\n",
       "      <th>0</th>\n",
       "      <td>00:13:44.772402</td>\n",
       "      <td>00:15:13.912529</td>\n",
       "      <td>00:00:10.500000</td>\n",
       "      <td>00:15:01.936646</td>\n",
       "      <td>00:24:51.450026</td>\n",
       "      <td>00:21:34.423076</td>\n",
       "    </tr>\n",
       "    <tr>\n",
       "      <th>1</th>\n",
       "      <td>00:16:30.073329</td>\n",
       "      <td>00:15:54.587696</td>\n",
       "      <td>00:11:24.500000</td>\n",
       "      <td>00:14:54.115603</td>\n",
       "      <td>00:23:32.035877</td>\n",
       "      <td>00:19:04.173913</td>\n",
       "    </tr>\n",
       "    <tr>\n",
       "      <th>2</th>\n",
       "      <td>00:12:57.586391</td>\n",
       "      <td>00:15:35.851226</td>\n",
       "      <td>00:06:06</td>\n",
       "      <td>00:14:49.204359</td>\n",
       "      <td>00:20:14.379738</td>\n",
       "      <td>00:08:07.190476</td>\n",
       "    </tr>\n",
       "    <tr>\n",
       "      <th>3</th>\n",
       "      <td>00:17:13.925612</td>\n",
       "      <td>00:14:57.609171</td>\n",
       "      <td>00:00:45.125000</td>\n",
       "      <td>00:15:15.252126</td>\n",
       "      <td>00:18:00.333614</td>\n",
       "      <td>01:02:44.642857</td>\n",
       "    </tr>\n",
       "    <tr>\n",
       "      <th>4</th>\n",
       "      <td>00:16:09.485855</td>\n",
       "      <td>00:16:24.232908</td>\n",
       "      <td>00:00:50.535714</td>\n",
       "      <td>00:15:53.299283</td>\n",
       "      <td>00:20:13.883166</td>\n",
       "      <td>00:09:02.205882</td>\n",
       "    </tr>\n",
       "    <tr>\n",
       "      <th>5</th>\n",
       "      <td>00:17:24.167058</td>\n",
       "      <td>00:16:42.636710</td>\n",
       "      <td>00:04:45.923076</td>\n",
       "      <td>00:14:04.137250</td>\n",
       "      <td>00:30:03.784138</td>\n",
       "      <td>00:07:54.511627</td>\n",
       "    </tr>\n",
       "    <tr>\n",
       "      <th>6</th>\n",
       "      <td>00:25:13.275446</td>\n",
       "      <td>00:19:43.476419</td>\n",
       "      <td>00:04:39.716666</td>\n",
       "      <td>00:13:27.416353</td>\n",
       "      <td>00:37:45.080060</td>\n",
       "      <td>00:10:30.454545</td>\n",
       "    </tr>\n",
       "    <tr>\n",
       "      <th>7</th>\n",
       "      <td>00:31:23.830611</td>\n",
       "      <td>00:21:43.353564</td>\n",
       "      <td>00:12:12.311111</td>\n",
       "      <td>00:14:12.038447</td>\n",
       "      <td>00:42:37.542839</td>\n",
       "      <td>00:39:54.769230</td>\n",
       "    </tr>\n",
       "    <tr>\n",
       "      <th>8</th>\n",
       "      <td>00:24:35.577181</td>\n",
       "      <td>00:21:34.964896</td>\n",
       "      <td>00:06:35.837837</td>\n",
       "      <td>00:15:04.061094</td>\n",
       "      <td>00:41:58.692693</td>\n",
       "      <td>00:25:11.900000</td>\n",
       "    </tr>\n",
       "    <tr>\n",
       "      <th>9</th>\n",
       "      <td>00:22:23.663503</td>\n",
       "      <td>00:21:00.710815</td>\n",
       "      <td>00:14:47.366666</td>\n",
       "      <td>00:15:11.877623</td>\n",
       "      <td>00:40:01.805996</td>\n",
       "      <td>00:21:22.628571</td>\n",
       "    </tr>\n",
       "    <tr>\n",
       "      <th>10</th>\n",
       "      <td>00:21:04.075709</td>\n",
       "      <td>00:19:48.931198</td>\n",
       "      <td>00:45:59.261904</td>\n",
       "      <td>00:15:20.874111</td>\n",
       "      <td>00:39:12.027436</td>\n",
       "      <td>00:52:55.244444</td>\n",
       "    </tr>\n",
       "    <tr>\n",
       "      <th>11</th>\n",
       "      <td>00:22:38.492127</td>\n",
       "      <td>00:19:24.252076</td>\n",
       "      <td>00:14:56.958333</td>\n",
       "      <td>00:15:54.498447</td>\n",
       "      <td>00:38:02.524033</td>\n",
       "      <td>00:17:20</td>\n",
       "    </tr>\n",
       "    <tr>\n",
       "      <th>12</th>\n",
       "      <td>00:23:18.232327</td>\n",
       "      <td>00:19:43.766626</td>\n",
       "      <td>00:03:26.228070</td>\n",
       "      <td>00:16:16.426716</td>\n",
       "      <td>00:37:52.764215</td>\n",
       "      <td>00:22:54.846153</td>\n",
       "    </tr>\n",
       "    <tr>\n",
       "      <th>13</th>\n",
       "      <td>00:23:29.109771</td>\n",
       "      <td>00:20:16.011175</td>\n",
       "      <td>00:06:35.202702</td>\n",
       "      <td>00:16:25.939918</td>\n",
       "      <td>00:40:33.517307</td>\n",
       "      <td>00:38:21.115384</td>\n",
       "    </tr>\n",
       "    <tr>\n",
       "      <th>14</th>\n",
       "      <td>00:25:11.712023</td>\n",
       "      <td>00:22:10.287898</td>\n",
       "      <td>00:04:22.522222</td>\n",
       "      <td>00:17:07.357911</td>\n",
       "      <td>00:44:18.592655</td>\n",
       "      <td>01:15:25.689655</td>\n",
       "    </tr>\n",
       "    <tr>\n",
       "      <th>15</th>\n",
       "      <td>00:26:32.016618</td>\n",
       "      <td>00:22:02.867068</td>\n",
       "      <td>00:03:02.941747</td>\n",
       "      <td>00:17:10.952531</td>\n",
       "      <td>00:45:49.079459</td>\n",
       "      <td>00:44:52.107142</td>\n",
       "    </tr>\n",
       "    <tr>\n",
       "      <th>16</th>\n",
       "      <td>00:27:47.554497</td>\n",
       "      <td>00:21:39.148204</td>\n",
       "      <td>00:06:56.601449</td>\n",
       "      <td>00:16:51.457342</td>\n",
       "      <td>00:47:03.208027</td>\n",
       "      <td>00:28:59.147058</td>\n",
       "    </tr>\n",
       "    <tr>\n",
       "      <th>17</th>\n",
       "      <td>00:24:16.209293</td>\n",
       "      <td>00:20:06.325728</td>\n",
       "      <td>00:06:24.236559</td>\n",
       "      <td>00:16:37.434877</td>\n",
       "      <td>00:45:55.853275</td>\n",
       "      <td>00:32:32.296296</td>\n",
       "    </tr>\n",
       "    <tr>\n",
       "      <th>18</th>\n",
       "      <td>00:20:15.060785</td>\n",
       "      <td>00:17:49.662242</td>\n",
       "      <td>00:21:15.105882</td>\n",
       "      <td>00:15:43.781284</td>\n",
       "      <td>00:39:31.251490</td>\n",
       "      <td>00:38:03</td>\n",
       "    </tr>\n",
       "    <tr>\n",
       "      <th>19</th>\n",
       "      <td>00:19:29.885290</td>\n",
       "      <td>00:16:44.675767</td>\n",
       "      <td>00:07:17.961538</td>\n",
       "      <td>00:14:24.406389</td>\n",
       "      <td>00:33:16.911597</td>\n",
       "      <td>00:18:10.076923</td>\n",
       "    </tr>\n",
       "    <tr>\n",
       "      <th>20</th>\n",
       "      <td>00:16:24.187612</td>\n",
       "      <td>00:15:27.902961</td>\n",
       "      <td>00:08:38.085714</td>\n",
       "      <td>00:13:56.778216</td>\n",
       "      <td>00:31:31.850025</td>\n",
       "      <td>00:20:14.043478</td>\n",
       "    </tr>\n",
       "    <tr>\n",
       "      <th>21</th>\n",
       "      <td>00:22:14.838043</td>\n",
       "      <td>00:15:42.744110</td>\n",
       "      <td>00:13:42.565217</td>\n",
       "      <td>00:14:22.516807</td>\n",
       "      <td>00:30:27.726394</td>\n",
       "      <td>00:34:09.655172</td>\n",
       "    </tr>\n",
       "    <tr>\n",
       "      <th>22</th>\n",
       "      <td>00:18:14.416062</td>\n",
       "      <td>00:15:25.780768</td>\n",
       "      <td>00:03:28.100000</td>\n",
       "      <td>00:14:40.610285</td>\n",
       "      <td>00:28:02.661942</td>\n",
       "      <td>00:40:51.458333</td>\n",
       "    </tr>\n",
       "    <tr>\n",
       "      <th>23</th>\n",
       "      <td>00:15:46.663003</td>\n",
       "      <td>00:15:55.197429</td>\n",
       "      <td>00:09:41.250000</td>\n",
       "      <td>00:14:53.092945</td>\n",
       "      <td>00:26:06.173438</td>\n",
       "      <td>00:14:35.333333</td>\n",
       "    </tr>\n",
       "  </tbody>\n",
       "</table>\n",
       "</div>"
      ],
      "text/plain": [
       "Borough           Bronx        Brooklyn             EWR       Manhattan  \\\n",
       "hours                                                                     \n",
       "0       00:13:44.772402 00:15:13.912529 00:00:10.500000 00:15:01.936646   \n",
       "1       00:16:30.073329 00:15:54.587696 00:11:24.500000 00:14:54.115603   \n",
       "2       00:12:57.586391 00:15:35.851226        00:06:06 00:14:49.204359   \n",
       "3       00:17:13.925612 00:14:57.609171 00:00:45.125000 00:15:15.252126   \n",
       "4       00:16:09.485855 00:16:24.232908 00:00:50.535714 00:15:53.299283   \n",
       "5       00:17:24.167058 00:16:42.636710 00:04:45.923076 00:14:04.137250   \n",
       "6       00:25:13.275446 00:19:43.476419 00:04:39.716666 00:13:27.416353   \n",
       "7       00:31:23.830611 00:21:43.353564 00:12:12.311111 00:14:12.038447   \n",
       "8       00:24:35.577181 00:21:34.964896 00:06:35.837837 00:15:04.061094   \n",
       "9       00:22:23.663503 00:21:00.710815 00:14:47.366666 00:15:11.877623   \n",
       "10      00:21:04.075709 00:19:48.931198 00:45:59.261904 00:15:20.874111   \n",
       "11      00:22:38.492127 00:19:24.252076 00:14:56.958333 00:15:54.498447   \n",
       "12      00:23:18.232327 00:19:43.766626 00:03:26.228070 00:16:16.426716   \n",
       "13      00:23:29.109771 00:20:16.011175 00:06:35.202702 00:16:25.939918   \n",
       "14      00:25:11.712023 00:22:10.287898 00:04:22.522222 00:17:07.357911   \n",
       "15      00:26:32.016618 00:22:02.867068 00:03:02.941747 00:17:10.952531   \n",
       "16      00:27:47.554497 00:21:39.148204 00:06:56.601449 00:16:51.457342   \n",
       "17      00:24:16.209293 00:20:06.325728 00:06:24.236559 00:16:37.434877   \n",
       "18      00:20:15.060785 00:17:49.662242 00:21:15.105882 00:15:43.781284   \n",
       "19      00:19:29.885290 00:16:44.675767 00:07:17.961538 00:14:24.406389   \n",
       "20      00:16:24.187612 00:15:27.902961 00:08:38.085714 00:13:56.778216   \n",
       "21      00:22:14.838043 00:15:42.744110 00:13:42.565217 00:14:22.516807   \n",
       "22      00:18:14.416062 00:15:25.780768 00:03:28.100000 00:14:40.610285   \n",
       "23      00:15:46.663003 00:15:55.197429 00:09:41.250000 00:14:53.092945   \n",
       "\n",
       "Borough          Queens   Staten Island  \n",
       "hours                                    \n",
       "0       00:24:51.450026 00:21:34.423076  \n",
       "1       00:23:32.035877 00:19:04.173913  \n",
       "2       00:20:14.379738 00:08:07.190476  \n",
       "3       00:18:00.333614 01:02:44.642857  \n",
       "4       00:20:13.883166 00:09:02.205882  \n",
       "5       00:30:03.784138 00:07:54.511627  \n",
       "6       00:37:45.080060 00:10:30.454545  \n",
       "7       00:42:37.542839 00:39:54.769230  \n",
       "8       00:41:58.692693 00:25:11.900000  \n",
       "9       00:40:01.805996 00:21:22.628571  \n",
       "10      00:39:12.027436 00:52:55.244444  \n",
       "11      00:38:02.524033        00:17:20  \n",
       "12      00:37:52.764215 00:22:54.846153  \n",
       "13      00:40:33.517307 00:38:21.115384  \n",
       "14      00:44:18.592655 01:15:25.689655  \n",
       "15      00:45:49.079459 00:44:52.107142  \n",
       "16      00:47:03.208027 00:28:59.147058  \n",
       "17      00:45:55.853275 00:32:32.296296  \n",
       "18      00:39:31.251490        00:38:03  \n",
       "19      00:33:16.911597 00:18:10.076923  \n",
       "20      00:31:31.850025 00:20:14.043478  \n",
       "21      00:30:27.726394 00:34:09.655172  \n",
       "22      00:28:02.661942 00:40:51.458333  \n",
       "23      00:26:06.173438 00:14:35.333333  "
      ]
     },
     "execution_count": 68,
     "metadata": {},
     "output_type": "execute_result"
    }
   ],
   "source": [
    "travel_time_hours_total"
   ]
  },
  {
   "cell_type": "markdown",
   "metadata": {},
   "source": [
    "In the plot the time data was converted to a float number and due to this to have an idea about the average time on each trip consider that 1 on the vertical axis is approximately 16 minutes."
   ]
  },
  {
   "cell_type": "code",
   "execution_count": 3,
   "metadata": {
    "ExecuteTime": {
     "end_time": "2018-11-06T16:07:47.805668Z",
     "start_time": "2018-11-06T16:07:45.964997Z"
    }
   },
   "outputs": [
    {
     "data": {
      "text/plain": [
       "Text(0,0.5,'Average trip duration x 16 minutes')"
      ]
     },
     "execution_count": 3,
     "metadata": {},
     "output_type": "execute_result"
    },
    {
     "data": {
      "image/png": "[encoded data removed]",
      "text/plain": [
       "<Figure size 720x360 with 1 Axes>"
      ]
     },
     "metadata": {
      "needs_background": "light"
     },
     "output_type": "display_data"
    }
   ],
   "source": [
    "ax = ny_total_hours.plot( kind = 'bar', colormap='Set3', figsize = (10,5), \n",
    "                    title = 'Average trip duration per hour')\n",
    "#setting axis labels\n",
    "ax.set_xlabel('Hours')\n",
    "ax.set_ylabel('Average trip duration x 16 minutes')"
   ]
  },
  {
   "cell_type": "code",
   "execution_count": 24,
   "metadata": {
    "ExecuteTime": {
     "end_time": "2018-11-06T17:43:21.196288Z",
     "start_time": "2018-11-06T17:43:19.583197Z"
    },
    "scrolled": false
   },
   "outputs": [
    {
     "data": {
      "text/plain": [
       "array([[<matplotlib.axes._subplots.AxesSubplot object at 0x0000014EFBE08240>,\n",
       "        <matplotlib.axes._subplots.AxesSubplot object at 0x0000014EBE368C18>],\n",
       "       [<matplotlib.axes._subplots.AxesSubplot object at 0x0000014EC97B6240>,\n",
       "        <matplotlib.axes._subplots.AxesSubplot object at 0x0000014EABCF48D0>],\n",
       "       [<matplotlib.axes._subplots.AxesSubplot object at 0x0000014EA9FA4F60>,\n",
       "        <matplotlib.axes._subplots.AxesSubplot object at 0x0000014EA9FA4F98>],\n",
       "       [<matplotlib.axes._subplots.AxesSubplot object at 0x0000014EB2C1CCC0>,\n",
       "        <matplotlib.axes._subplots.AxesSubplot object at 0x0000014E85236390>],\n",
       "       [<matplotlib.axes._subplots.AxesSubplot object at 0x0000014EABB60A20>,\n",
       "        <matplotlib.axes._subplots.AxesSubplot object at 0x0000014E9C3540F0>]],\n",
       "      dtype=object)"
      ]
     },
     "execution_count": 24,
     "metadata": {},
     "output_type": "execute_result"
    },
    {
     "data": {
      "image/png": "[encoded data removed]",
      "text/plain": [
       "<Figure size 1296x1872 with 10 Axes>"
      ]
     },
     "metadata": {
      "needs_background": "light"
     },
     "output_type": "display_data"
    }
   ],
   "source": [
    "travel_time_hours_total.plot( kind = 'bar', subplots= True, colormap = 'Set2', \n",
    "                       layout = (5,2), figsize = (18,26), legend = False, sharey = False, \n",
    "                             sharex = False, title = 'Visualisation per Borough' )"
   ]
  },
  {
   "cell_type": "markdown",
   "metadata": {},
   "source": [
    "In the plot the time data was converted to a float number and due to this to have an idea about the average time on each trip consider that 1 is approximately 16 minutes in the vertical axis. It is possible to visualize that the trips starting in Staten island tend to last longer, this is understandable as this borough is in the limits of New York city. It is also possible to notice that the in the rush hours (8 and 18) the the trips tend to last longer, which is explained with the traffic jam in those periods. Some Boroughs like Brooklyn and Manhattan have usually faster trips, which could mean that people there don't usually go to another Boroughs, so if a Taxi driver wants to make short trips in the same Borough should consider this two places."
   ]
  },
  {
   "cell_type": "markdown",
   "metadata": {},
   "source": [
    "In in the Boroughs EWR and Staten Island is possible to visualyze some peaks in unusual hours, this is explained with the fact that there was not many trips registered in those boroughs, hence a single trip with long duration can increase the average of the time slot in the respectives boroughs."
   ]
  },
  {
   "cell_type": "markdown",
   "metadata": {},
   "source": [
    "### RQ4 What is the most common way of payments? \n",
    "Discover the way payments are executed in each borough and visualize the number of payments for any possible means. Then run the Chi-squared test to see whether the method of payment is correlated to the borough. Then, comment the results."
   ]
  },
  {
   "cell_type": "code",
   "execution_count": 5,
   "metadata": {
    "ExecuteTime": {
     "end_time": "2018-11-06T16:14:40.634746Z",
     "start_time": "2018-11-06T16:10:33.179436Z"
    }
   },
   "outputs": [],
   "source": [
    "# scipy.stats.chisquare\n",
    "for month in ['01', '02', '03', '04', '05', '06']:\n",
    "    # load tpep_pickup_datetime,\ttpep_dropoff_datetime, trip_distance, PULocationID, payment_type passenger_count\n",
    "    data_final = pd.read_csv(\"yellow_tripdata_2018-\"+month+\".csv\", usecols=[\n",
    "                             'tpep_pickup_datetime', 'tpep_dropoff_datetime', 'payment_type', 'trip_distance', 'PULocationID', 'total_amount'])\n",
    "\n",
    "    data_final = pd.merge(data_final, data_zone, how=\"left\",\n",
    "                          left_on='PULocationID', right_on=\"LocationID\")\n",
    "    data_final = data_final[data_final.trip_distance != 0]\n",
    "    data_final = data_final[data_final.total_amount != 0]\n",
    "    data_final = data_final[data_final.Borough != 'Unknown']\n",
    "    #count by borough\n",
    "    common_payments = data_final.groupby(['Borough'])[\n",
    "        'payment_type'].value_counts().to_frame()\n",
    "    common_payments = common_payments.unstack()\n",
    "    \n",
    "    if int(month) == 1:\n",
    "        common_payments_total = common_payments\n",
    "    else:\n",
    "        common_payments_total = common_payments_total.add(common_payments)"
   ]
  },
  {
   "cell_type": "code",
   "execution_count": 6,
   "metadata": {
    "ExecuteTime": {
     "end_time": "2018-11-06T16:15:10.116788Z",
     "start_time": "2018-11-06T16:15:10.111800Z"
    },
    "scrolled": false
   },
   "outputs": [],
   "source": [
    "#transpose matrix and fill NaN with 0 in order to plot.\n",
    "common_payments_total = common_payments_total.transpose().fillna(0)"
   ]
  },
  {
   "cell_type": "code",
   "execution_count": 7,
   "metadata": {
    "ExecuteTime": {
     "end_time": "2018-11-06T16:15:12.154876Z",
     "start_time": "2018-11-06T16:15:11.966333Z"
    },
    "scrolled": false
   },
   "outputs": [
    {
     "data": {
      "text/html": [
       "<div>\n",
       "<style scoped>\n",
       "    .dataframe tbody tr th:only-of-type {\n",
       "        vertical-align: middle;\n",
       "    }\n",
       "\n",
       "    .dataframe tbody tr th {\n",
       "        vertical-align: top;\n",
       "    }\n",
       "\n",
       "    .dataframe thead th {\n",
       "        text-align: right;\n",
       "    }\n",
       "</style>\n",
       "<table border=\"1\" class=\"dataframe\">\n",
       "  <thead>\n",
       "    <tr style=\"text-align: right;\">\n",
       "      <th></th>\n",
       "      <th>Borough</th>\n",
       "      <th>Bronx</th>\n",
       "      <th>Brooklyn</th>\n",
       "      <th>EWR</th>\n",
       "      <th>Manhattan</th>\n",
       "      <th>Queens</th>\n",
       "      <th>Staten Island</th>\n",
       "    </tr>\n",
       "    <tr>\n",
       "      <th></th>\n",
       "      <th>payment_type</th>\n",
       "      <th></th>\n",
       "      <th></th>\n",
       "      <th></th>\n",
       "      <th></th>\n",
       "      <th></th>\n",
       "      <th></th>\n",
       "    </tr>\n",
       "  </thead>\n",
       "  <tbody>\n",
       "    <tr>\n",
       "      <th rowspan=\"4\" valign=\"top\">payment_type</th>\n",
       "      <th>1</th>\n",
       "      <td>26789.0</td>\n",
       "      <td>437355.0</td>\n",
       "      <td>863.0</td>\n",
       "      <td>34117526.0</td>\n",
       "      <td>2286202.0</td>\n",
       "      <td>321.0</td>\n",
       "    </tr>\n",
       "    <tr>\n",
       "      <th>2</th>\n",
       "      <td>24214.0</td>\n",
       "      <td>226181.0</td>\n",
       "      <td>199.0</td>\n",
       "      <td>14395400.0</td>\n",
       "      <td>960828.0</td>\n",
       "      <td>279.0</td>\n",
       "    </tr>\n",
       "    <tr>\n",
       "      <th>3</th>\n",
       "      <td>805.0</td>\n",
       "      <td>6201.0</td>\n",
       "      <td>93.0</td>\n",
       "      <td>200444.0</td>\n",
       "      <td>25831.0</td>\n",
       "      <td>27.0</td>\n",
       "    </tr>\n",
       "    <tr>\n",
       "      <th>4</th>\n",
       "      <td>222.0</td>\n",
       "      <td>1628.0</td>\n",
       "      <td>15.0</td>\n",
       "      <td>58489.0</td>\n",
       "      <td>7077.0</td>\n",
       "      <td>0.0</td>\n",
       "    </tr>\n",
       "  </tbody>\n",
       "</table>\n",
       "</div>"
      ],
      "text/plain": [
       "Borough                      Bronx  Brooklyn    EWR   Manhattan     Queens  \\\n",
       "             payment_type                                                    \n",
       "payment_type 1             26789.0  437355.0  863.0  34117526.0  2286202.0   \n",
       "             2             24214.0  226181.0  199.0  14395400.0   960828.0   \n",
       "             3               805.0    6201.0   93.0    200444.0    25831.0   \n",
       "             4               222.0    1628.0   15.0     58489.0     7077.0   \n",
       "\n",
       "Borough                    Staten Island  \n",
       "             payment_type                 \n",
       "payment_type 1                     321.0  \n",
       "             2                     279.0  \n",
       "             3                      27.0  \n",
       "             4                       0.0  "
      ]
     },
     "execution_count": 7,
     "metadata": {},
     "output_type": "execute_result"
    }
   ],
   "source": [
    "common_payments_total"
   ]
  },
  {
   "cell_type": "code",
   "execution_count": 8,
   "metadata": {
    "ExecuteTime": {
     "end_time": "2018-11-06T16:15:15.794048Z",
     "start_time": "2018-11-06T16:15:15.518229Z"
    }
   },
   "outputs": [
    {
     "data": {
      "text/plain": [
       "[Text(0,0,'Credit Card'),\n",
       " Text(0,0,'Cash'),\n",
       " Text(0,0,'No Charge'),\n",
       " Text(0,0,'Dispute')]"
      ]
     },
     "execution_count": 8,
     "metadata": {},
     "output_type": "execute_result"
    },
    {
     "data": {
      "image/png": "[encoded data removed]",
      "text/plain": [
       "<Figure size 720x360 with 1 Axes>"
      ]
     },
     "metadata": {
      "needs_background": "light"
     },
     "output_type": "display_data"
    }
   ],
   "source": [
    "#plotting for all NY\n",
    "payment_type_ny = common_payments_total.iloc[:,:].sum(axis=1)\n",
    "\n",
    "ax = payment_type_ny.plot( kind = 'barh', colormap='Set3',grid = True, figsize = (10,5), title = 'Payment types in the first 6 months of 2018')\n",
    "\n",
    "ax.set_xlabel('Payments')\n",
    "ax.set_ylabel('Methods')\n",
    "ax.yaxis.set_ticklabels(['Credit Card', 'Cash', 'No Charge', 'Dispute'])"
   ]
  },
  {
   "cell_type": "code",
   "execution_count": 10,
   "metadata": {
    "ExecuteTime": {
     "end_time": "2018-11-06T16:15:45.129334Z",
     "start_time": "2018-11-06T16:15:45.123349Z"
    }
   },
   "outputs": [
    {
     "data": {
      "text/plain": [
       "52776989.0"
      ]
     },
     "execution_count": 10,
     "metadata": {},
     "output_type": "execute_result"
    }
   ],
   "source": [
    "payment_type_ny.sum()"
   ]
  },
  {
   "cell_type": "markdown",
   "metadata": {},
   "source": [
    "Credit Card is the most used payment method for taxis in NY, so it is better for the taxi drivers to be able to accept this payment method in order to get more passengers."
   ]
  },
  {
   "cell_type": "code",
   "execution_count": 53,
   "metadata": {
    "ExecuteTime": {
     "end_time": "2018-11-04T13:21:41.986811Z",
     "start_time": "2018-11-04T13:21:41.936948Z"
    }
   },
   "outputs": [
    {
     "name": "stderr",
     "output_type": "stream",
     "text": [
      "C:\\Users\\guilh\\Anaconda3\\lib\\site-packages\\ipykernel_launcher.py:1: FutureWarning: Method .as_matrix will be removed in a future version. Use .values instead.\n",
      "  \"\"\"Entry point for launching an IPython kernel.\n"
     ]
    }
   ],
   "source": [
    "payment_matrix = common_payments_total.as_matrix() #transform it to arrays"
   ]
  },
  {
   "cell_type": "code",
   "execution_count": 59,
   "metadata": {
    "ExecuteTime": {
     "end_time": "2018-11-04T13:38:17.753436Z",
     "start_time": "2018-11-04T13:38:17.746491Z"
    },
    "scrolled": true
   },
   "outputs": [
    {
     "data": {
      "text/plain": [
       "(33897.96093393685,\n",
       " 0.0,\n",
       " 15,\n",
       " array([[3.63472229e+04, 4.69003523e+05, 8.17340973e+02, 3.40711442e+07,\n",
       "         2.29130574e+06, 4.38010931e+02],\n",
       "        [1.53862030e+04, 1.98534656e+05, 3.45989957e+02, 1.44227123e+07,\n",
       "         9.69936418e+05, 1.85415131e+02],\n",
       "        [2.30097515e+02, 2.96904513e+03, 5.17420897e+00, 2.15688710e+05,\n",
       "         1.45052005e+04, 2.77284532e+00],\n",
       "        [6.64766027e+01, 8.57775598e+02, 1.49486114e+00, 6.23138092e+04,\n",
       "         4.19064262e+03, 8.01092253e-01]]))"
      ]
     },
     "execution_count": 59,
     "metadata": {},
     "output_type": "execute_result"
    }
   ],
   "source": [
    "scipy.stats.chi2_contingency(payment_matrix)"
   ]
  },
  {
   "cell_type": "markdown",
   "metadata": {
    "ExecuteTime": {
     "end_time": "2018-11-04T13:46:54.984821Z",
     "start_time": "2018-11-04T13:46:54.978838Z"
    }
   },
   "source": [
    "The p-value for the observed data is 0. This shows that there is no relation with the payment method and the Borough."
   ]
  },
  {
   "cell_type": "markdown",
   "metadata": {},
   "source": [
    "###### Details on the function\n",
    "\n",
    "scipy.stats.chi2_contingency(observed, correction=True, lambda_=None)\n",
    "Chi-square test of independence of variables in a contingency table.\n",
    "\n",
    "This function computes the chi-square statistic and p-value for the hypothesis test of independence of the observed frequencies in the contingency table observed. The expected frequencies are computed based on the marginal sums under the assumption of independence; see scipy.stats.contingency.expected_freq. \n",
    "An often quoted guideline for the validity of this calculation is that the test should be used only if the observed and expected frequency in each cell is at least 5.\n",
    "\n",
    "This is a test for the independence of different categories of payment per Borough. The test is only meaningful when the dimension of observed is two or more. Applying the test to a one-dimensional table will always result in expected equal to observed and a chi-square statistic equal to 0.\n",
    "\n",
    "Like stats.chisquare, this function computes a chi-square statistic; the convenience this function provides is to figure out the expected frequencies and degrees of freedom from the given contingency table."
   ]
  },
  {
   "cell_type": "markdown",
   "metadata": {},
   "source": [
    "### CRQ2: Visualize Taxis movements! \n",
    "\n",
    "NYC is divided in many Taxis zones. For each yellow cab trip we know the zone the Taxi pick up and drop off the users. Let's visualize, on a chropleth map, the number of trips that starts in each zone. Than, do another map to count the races that end up in the single zone. Comment your discoveries. To perform this task we use the library folium. You find some examples of chorophlet maps here and here. The Geojson we use to trace the zones is taxi_zones.json in the Homework's repository."
   ]
  },
  {
   "cell_type": "markdown",
   "metadata": {},
   "source": [
    "In the following analysis was counted how many pick-ups and how many drop-offs there was on each zone of New York, and to provide an overview of the hotspots it was created an Choropleth map."
   ]
  },
  {
   "cell_type": "code",
   "execution_count": 11,
   "metadata": {
    "ExecuteTime": {
     "end_time": "2018-11-06T17:25:03.135424Z",
     "start_time": "2018-11-06T17:25:02.235157Z"
    }
   },
   "outputs": [],
   "source": [
    "#loading json file\n",
    "ny_zones = json.load(open('taxi_zones.json'))"
   ]
  },
  {
   "cell_type": "code",
   "execution_count": 12,
   "metadata": {
    "ExecuteTime": {
     "end_time": "2018-11-06T17:26:56.706514Z",
     "start_time": "2018-11-06T17:25:05.922731Z"
    }
   },
   "outputs": [],
   "source": [
    "#create a empty data frame with all possible zones (266)\n",
    "\n",
    "pick_up_frame= pd.DataFrame(index=list(range(1,266)), columns=['count'])\n",
    "drop_off_frame = pd.DataFrame(index=list(range(1,266)), columns=['count'])\n",
    "\n",
    "#loop through the files for respective months\n",
    "for month in ['01', '02', '03', '04', '05', '06']:\n",
    "    \n",
    "    #read csv file\n",
    "    data_final = pd.read_csv(\"yellow_tripdata_2018-\"+ month +\n",
    "                             \".csv\", usecols=['PULocationID', 'DOLocationID'])\n",
    "\n",
    "    #count how many trips per location/zone\n",
    "    pick_up_series = data_final.groupby(['PULocationID'])['PULocationID'].count()\n",
    "    drop_off_series = data_final.groupby(['DOLocationID'])['DOLocationID'].count()\n",
    "    \n",
    "    #There are some months that weren't trips in some Zobes,\n",
    "    #the index then will have a value related to another zone.\n",
    "    #To avoid this, perform the following loop \n",
    "    #If there is the value, assign the value, else assign 0\n",
    "    for i in range(1,266):\n",
    "        if i in pick_up_series:\n",
    "            pick_up_frame['count'][i] = pick_up_series[i]\n",
    "        else:\n",
    "            pick_up_frame['count'][i] = 0\n",
    "    \n",
    "    for i in range(1,266):\n",
    "        if i in drop_off_series:\n",
    "            drop_off_frame['count'][i] = drop_off_series[i]\n",
    "        else:\n",
    "            drop_off_frame['count'][i] = 0\n",
    "        \n",
    "    #for each loop save the results adding to the previous one\n",
    "    if int(month) == 1:\n",
    "        pick_up_series_total = pick_up_frame\n",
    "        drop_off_series_total = drop_off_frame\n",
    "    else:\n",
    "        pick_up_series_total = pick_up_series_total.add(pick_up_frame)\n",
    "        drop_off_series_total = drop_off_series_total.add(drop_off_frame)\n",
    "        \n",
    "#getting just the column count to use in the map generation\n",
    "drop_off_series_total = drop_off_series_total['count']\n",
    "pick_up_series_total = pick_up_series_total['count']"
   ]
  },
  {
   "cell_type": "code",
   "execution_count": 14,
   "metadata": {
    "ExecuteTime": {
     "end_time": "2018-11-04T19:12:09.947531Z",
     "start_time": "2018-11-04T19:12:07.689763Z"
    }
   },
   "outputs": [],
   "source": [
    "#creating map for the pick up locations with folium\n",
    "map_pu = folium.Map(location=[40.7017815, -74.058986], tiles='cartodbpositron', zoom_start=10)\n",
    "\n",
    "#adding the choropleth map using the json file to set the zones perimeter\n",
    "#and using the pick_up_series_total as data\n",
    "map_pu.choropleth(\n",
    "    geo_data = ny_zones,\n",
    "    name ='choropleth',\n",
    "    data = pick_up_series_total,\n",
    "    key_on = 'feature.properties.LocationID',\n",
    "    fill_color = 'YlGn',\n",
    "    fill_opacity = 0.8,\n",
    "    line_opacity = 0.2,\n",
    "    legend_name = 'Pick-up map'\n",
    "    highlight=True\n",
    ")\n",
    "\n",
    "folium.LayerControl().add_to(map_pu)\n",
    "map_pu.save(os.path.join('results', r\"C:\\Users\\guilh\\Desktop\\ADM\\HW2\\pick_up_map.html\"))"
   ]
  },
  {
   "cell_type": "markdown",
   "metadata": {},
   "source": [
    "Open the files map_pu.html file in the repository to visualize the map of pick-ups concentrations."
   ]
  },
  {
   "cell_type": "code",
   "execution_count": 15,
   "metadata": {
    "ExecuteTime": {
     "end_time": "2018-11-04T19:12:13.518692Z",
     "start_time": "2018-11-04T19:12:11.624743Z"
    }
   },
   "outputs": [],
   "source": [
    "map_do = folium.Map(location=[40.7017815, -74.058986], tiles='cartodbpositron', zoom_start=10)\n",
    "\n",
    "map_do.choropleth(\n",
    "    geo_data= ny_zones,\n",
    "    name='choropleth',\n",
    "    data= drop_off_series_total,\n",
    "    key_on='feature.properties.LocationID',\n",
    "    fill_color='Oranges',\n",
    "    fill_opacity=0.8,\n",
    "    line_opacity=0.2,\n",
    "    legend_name='Drop-off map'\n",
    "    highlight=True\n",
    ")\n",
    "\n",
    "folium.LayerControl().add_to(map_do)\n",
    "map_do.save(os.path.join('results', r\"C:\\Users\\guilh\\Desktop\\ADM\\HW2\\drop_off_map.html\"))"
   ]
  },
  {
   "cell_type": "markdown",
   "metadata": {
    "ExecuteTime": {
     "end_time": "2018-11-01T15:24:21.915694Z",
     "start_time": "2018-11-01T15:24:21.911665Z"
    }
   },
   "source": [
    "Open the files map_do.html file in the repository to visualize the map of drop-offs concentrations."
   ]
  },
  {
   "cell_type": "markdown",
   "metadata": {
    "ExecuteTime": {
     "end_time": "2018-11-02T22:46:43.352113Z",
     "start_time": "2018-11-02T22:46:41.662634Z"
    }
   },
   "source": [
    "It is possible to visualize that most trips happen inside Manhattan due to the normal zone of operations of the yellow taxis. The only two other zones that has high concentration of trios outside this areas are the zones of the airports located in New York city, La Guardia airport and JFK airport."
   ]
  },
  {
   "cell_type": "markdown",
   "metadata": {},
   "source": [
    "Despite La Guardia being an Airport smaller than JFK, it has a higher concentration of trips. This is explained due to the fact that La Guardia has less options to reach it using public transport means, thus the passengers of it tend to use taxis."
   ]
  },
  {
   "cell_type": "code",
   "execution_count": null,
   "metadata": {},
   "outputs": [],
   "source": []
  }
 ],
 "metadata": {
  "kernelspec": {
   "display_name": "Python 3",
   "language": "python",
   "name": "python3"
  },
  "language_info": {
   "codemirror_mode": {
    "name": "ipython",
    "version": 3
   },
   "file_extension": ".py",
   "mimetype": "text/x-python",
   "name": "python",
   "nbconvert_exporter": "python",
   "pygments_lexer": "ipython3",
   "version": "3.7.0"
  },
  "varInspector": {
   "cols": {
    "lenName": 16,
    "lenType": 16,
    "lenVar": 40
   },
   "kernels_config": {
    "python": {
     "delete_cmd_postfix": "",
     "delete_cmd_prefix": "del ",
     "library": "var_list.py",
     "varRefreshCmd": "print(var_dic_list())"
    },
    "r": {
     "delete_cmd_postfix": ") ",
     "delete_cmd_prefix": "rm(",
     "library": "var_list.r",
     "varRefreshCmd": "cat(var_dic_list()) "
    }
   },
   "oldHeight": 434.73978,
   "position": {
    "height": "432.852px",
    "left": "1363.7px",
    "right": "20px",
    "top": "117.883px",
    "width": "446.426px"
   },
   "types_to_exclude": [
    "module",
    "function",
    "builtin_function_or_method",
    "instance",
    "_Feature"
   ],
   "varInspector_section_display": "block",
   "window_display": true
  }
 },
 "nbformat": 4,
 "nbformat_minor": 2
}
